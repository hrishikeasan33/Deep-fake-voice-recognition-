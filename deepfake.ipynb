{
 "cells": [
  {
   "cell_type": "code",
   "execution_count": 3,
   "id": "f39aeff6",
   "metadata": {},
   "outputs": [
    {
     "name": "stdout",
     "output_type": "stream",
     "text": [
      "Overwriting main.py\n"
     ]
    }
   ],
   "source": [
    "%%writefile main.py\n",
    "import streamlit as st\n",
    "import sys\n",
    "import os\n",
    "import librosa\n",
    "import numpy as np\n",
    "from PyQt5.QtWidgets import QFileDialog\n",
    "from tensorflow.keras.models import load_model\n",
    "\n",
    "class DeepFakeVoiceDetector:\n",
    "    def __init__(self):\n",
    "        self.model = load_model('gru_final.h5')\n",
    "        self.audio_path = None\n",
    "\n",
    "    def preprocess_audio(self, audio_file_path, max_length=500):\n",
    "        try:\n",
    "            audio, _ = librosa.load(audio_file_path, sr=16000)\n",
    "            mfccs = librosa.feature.mfcc(y=audio, sr=16000, n_mfcc=40)\n",
    "\n",
    "            if mfccs.shape[1] < max_length:\n",
    "                mfccs = np.pad(mfccs, ((0, 0), (0, max_length - mfccs.shape[1])), mode='constant')\n",
    "            else:\n",
    "                mfccs = mfccs[:, :max_length]\n",
    "\n",
    "            mfccs_normalized = (mfccs - np.mean(mfccs, axis=1, keepdims=True)) / np.std(mfccs, axis=1, keepdims=True)\n",
    "            return mfccs_normalized\n",
    "        except Exception as e:\n",
    "            st.error(f\"Error encountered while processing file: {audio_file_path}\")\n",
    "            return None\n",
    "    \n",
    "    def detect_voice(self):\n",
    "        if self.audio_path:\n",
    "            preprocessed_audio = self.preprocess_audio(self.audio_path)\n",
    "            preprocessed_audio = np.expand_dims(preprocessed_audio, axis=0)\n",
    "\n",
    "            prediction = self.model.predict(preprocessed_audio)\n",
    "\n",
    "            if prediction > 0.5:\n",
    "                return 'Fake voice detected'\n",
    "            else:\n",
    "                return 'Real voice detected'\n",
    "        else:\n",
    "            return 'Please select an audio file first'\n",
    "\n",
    "def main():\n",
    "    st.title(\"Deep Fake Voice Detector\")\n",
    "\n",
    "    detector = DeepFakeVoiceDetector()\n",
    "\n",
    "    audio_file = st.file_uploader(\"Upload Audio\", type=[\"wav\"])\n",
    "    if audio_file:\n",
    "        with open(\"uploaded_audio.wav\", \"wb\") as f:\n",
    "            f.write(audio_file.getbuffer())\n",
    "        detector.audio_path = \"uploaded_audio.wav\"\n",
    "\n",
    "    if st.button(\"Detect Voice\"):\n",
    "        result = detector.detect_voice()\n",
    "        st.write(result)\n",
    "\n",
    "if __name__ == \"__main__\":\n",
    "    main()\n"
   ]
  },
  {
   "cell_type": "code",
   "execution_count": 6,
   "id": "a7d0a188",
   "metadata": {},
   "outputs": [],
   "source": [
    "%%capture /content/logs.txt\n",
    "!streamlit run main.py --server.port 7000"
   ]
  },
  {
   "cell_type": "code",
   "execution_count": null,
   "id": "d8296511",
   "metadata": {},
   "outputs": [],
   "source": []
  }
 ],
 "metadata": {
  "kernelspec": {
   "display_name": "Python 3 (ipykernel)",
   "language": "python",
   "name": "python3"
  },
  "language_info": {
   "codemirror_mode": {
    "name": "ipython",
    "version": 3
   },
   "file_extension": ".py",
   "mimetype": "text/x-python",
   "name": "python",
   "nbconvert_exporter": "python",
   "pygments_lexer": "ipython3",
   "version": "3.11.5"
  }
 },
 "nbformat": 4,
 "nbformat_minor": 5
}
